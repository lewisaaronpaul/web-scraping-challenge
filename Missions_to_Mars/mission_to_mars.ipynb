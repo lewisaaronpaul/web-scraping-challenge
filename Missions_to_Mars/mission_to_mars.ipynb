{
 "cells": [
  {
   "cell_type": "code",
   "execution_count": 1,
   "metadata": {},
   "outputs": [],
   "source": [
    "import requests\n",
    "from pprint import pprint\n",
    "from bs4 import BeautifulSoup\n",
    "import time\n",
    "import json\n",
    "import os\n",
    "import pandas as pd"
   ]
  },
  {
   "cell_type": "code",
   "execution_count": 2,
   "metadata": {},
   "outputs": [],
   "source": [
    "# Selenium modules\n",
    "import selenium\n",
    "from selenium import webdriver\n",
    "from selenium.webdriver.common.keys import Keys\n",
    "from selenium.webdriver.common.by import By\n",
    "from selenium.webdriver.support.ui import WebDriverWait\n",
    "from selenium.webdriver.support import expected_conditions as EC"
   ]
  },
  {
   "cell_type": "code",
   "execution_count": 3,
   "metadata": {},
   "outputs": [],
   "source": [
    "# Run Google Chrome from Python.\n",
    "chrome_path = 'C:\\WebDrivers\\chromedriver.exe'\n",
    "driver = webdriver.Chrome(chrome_path)"
   ]
  },
  {
   "cell_type": "markdown",
   "metadata": {},
   "source": [
    "## NASA Mars News"
   ]
  },
  {
   "cell_type": "code",
   "execution_count": 4,
   "metadata": {},
   "outputs": [],
   "source": [
    "# Open the webpage from Python.\n",
    "url = 'https://mars.nasa.gov/news/?page=0&per_page=40&order=publish_date+desc%2Ccreated_at+desc&search=&category=19%2C165%2C184%2C204&blank_scope=Latest'\n",
    "driver.get(url)\n",
    "\n",
    "time.sleep(10)"
   ]
  },
  {
   "cell_type": "code",
   "execution_count": 5,
   "metadata": {},
   "outputs": [],
   "source": [
    "# Get the HTML for the website.\n",
    "html = driver.execute_script('return document.documentElement.outerHTML')\n",
    "\n",
    "#Close the driver\n",
    "driver.close()\n",
    "\n",
    "#html"
   ]
  },
  {
   "cell_type": "code",
   "execution_count": 6,
   "metadata": {},
   "outputs": [],
   "source": [
    "# This is the HTML for the webpage\n",
    "soup = BeautifulSoup(html, 'lxml')\n",
    "#print(soup.prettify())"
   ]
  },
  {
   "cell_type": "code",
   "execution_count": 7,
   "metadata": {},
   "outputs": [
    {
     "data": {
      "text/plain": [
       "40"
      ]
     },
     "execution_count": 7,
     "metadata": {},
     "output_type": "execute_result"
    }
   ],
   "source": [
    "page = soup.find('div', id = 'page')\n",
    "\n",
    "# Find all <li> tags\n",
    "all_lis = [li for li in page.ul.find_all('li')]\n",
    "len(all_lis)"
   ]
  },
  {
   "cell_type": "code",
   "execution_count": 8,
   "metadata": {},
   "outputs": [],
   "source": [
    "# Create mars_dict to collect the information along the way:\n",
    "mars_dict = {}"
   ]
  },
  {
   "cell_type": "code",
   "execution_count": 9,
   "metadata": {},
   "outputs": [
    {
     "name": "stdout",
     "output_type": "stream",
     "text": [
      "NASA, ULA Launch Mars 2020 Perseverance Rover Mission to Red Planet\n",
      "The agency's Mars 2020 mission is on its way. It will land at Jezero Crater in about seven months, on Feb. 18, 2021. \n"
     ]
    }
   ],
   "source": [
    "# The latest news is in the first <li> tag.\n",
    "latest_li = all_lis[0]\n",
    "\n",
    "latest_news_title = latest_li.find('div', class_ = 'content_title').text\n",
    "latest_news_p = latest_li.find('div', class_ = 'article_teaser_body').text\n",
    "print(latest_news_title)\n",
    "print(latest_news_p)"
   ]
  },
  {
   "cell_type": "code",
   "execution_count": 10,
   "metadata": {},
   "outputs": [],
   "source": [
    "mars_dict[\"latest_news_title\"] = latest_news_title\n",
    "mars_dict[\"latest_news_p\"] = latest_news_p"
   ]
  },
  {
   "cell_type": "markdown",
   "metadata": {},
   "source": [
    "## JPL Mars Space Images - Featured Image"
   ]
  },
  {
   "cell_type": "code",
   "execution_count": 11,
   "metadata": {},
   "outputs": [],
   "source": [
    "# Run Google Chrome from Python.\n",
    "url_JPL_Mars = 'https://www.jpl.nasa.gov/spaceimages/?search=&category=Mars'\n",
    "driver = webdriver.Chrome(chrome_path)\n",
    "driver.get(url_JPL_Mars)"
   ]
  },
  {
   "cell_type": "code",
   "execution_count": 12,
   "metadata": {},
   "outputs": [],
   "source": [
    "# Get the HTML of the current page you are on.\n",
    "image_html = driver.page_source\n",
    "\n",
    "#html"
   ]
  },
  {
   "cell_type": "code",
   "execution_count": 13,
   "metadata": {},
   "outputs": [],
   "source": [
    "# This is the HTML for the webpage\n",
    "image_soup = BeautifulSoup(image_html, 'lxml')\n",
    "#print(image_soup.prettify())"
   ]
  },
  {
   "cell_type": "code",
   "execution_count": 14,
   "metadata": {},
   "outputs": [],
   "source": [
    "# Search for the tag of the full image, using link text.\n",
    "image_link = driver.find_element_by_link_text('FULL IMAGE')\n",
    "\n",
    "# Click on the link for the full image.\n",
    "image_link.click()\n",
    "\n",
    "# Wait for conpletion of previous action.\n",
    "try:\n",
    "    element = WebDriverWait(driver, 3).until(\n",
    "        EC.presence_of_element_located((By.LINK_TEXT, \"more info\"))\n",
    "    )\n",
    "    \n",
    "    # Click on the button for more info.\n",
    "    element.click()\n",
    "except:\n",
    "    driver.quit()"
   ]
  },
  {
   "cell_type": "code",
   "execution_count": 15,
   "metadata": {},
   "outputs": [],
   "source": [
    "# Get the HTML of the current page for the large picture.\n",
    "large_html = driver.page_source\n",
    "#large_html\n",
    "\n",
    "#Close the driver\n",
    "driver.close()\n",
    "\n",
    "# This is the HTML for the full picture webpage\n",
    "large_soup = BeautifulSoup(large_html, 'lxml')\n",
    "#print(large_soup.prettify())"
   ]
  },
  {
   "cell_type": "code",
   "execution_count": 16,
   "metadata": {},
   "outputs": [
    {
     "name": "stdout",
     "output_type": "stream",
     "text": [
      "https://www.jpl.nasa.gov/spaceimages/images/largesize/PIA18816_hires.jpg\n"
     ]
    }
   ],
   "source": [
    "figure_tag = large_soup.find('figure', class_ = 'lede')\n",
    "base_url = 'https://www.jpl.nasa.gov'\n",
    "featured_image_url = base_url+figure_tag.a['href']\n",
    "print(featured_image_url)"
   ]
  },
  {
   "cell_type": "code",
   "execution_count": 17,
   "metadata": {},
   "outputs": [],
   "source": [
    "mars_dict[\"featured_image_url\"] = featured_image_url"
   ]
  },
  {
   "cell_type": "markdown",
   "metadata": {},
   "source": [
    "## Mars Weather"
   ]
  },
  {
   "cell_type": "code",
   "execution_count": 18,
   "metadata": {},
   "outputs": [],
   "source": [
    "# Run Google Chrome from Python.\n",
    "url_weather = 'https://twitter.com/marswxreport?lang=en'\n",
    "driver = webdriver.Chrome(chrome_path)\n",
    "driver.get(url_weather)\n",
    "time.sleep(10)"
   ]
  },
  {
   "cell_type": "code",
   "execution_count": 19,
   "metadata": {},
   "outputs": [],
   "source": [
    "# Get the HTML of the current page you are on.\n",
    "weather_html = driver.page_source\n",
    "\n",
    "#weather_html\n",
    "\n",
    "#Close the driver\n",
    "driver.close()"
   ]
  },
  {
   "cell_type": "code",
   "execution_count": 20,
   "metadata": {},
   "outputs": [],
   "source": [
    "# This is the HTML for the Twitter webpage on Mars weather.\n",
    "weather_soup = BeautifulSoup(weather_html, 'lxml')\n",
    "\n",
    "#print(weather_soup.prettify())"
   ]
  },
  {
   "cell_type": "code",
   "execution_count": 21,
   "metadata": {},
   "outputs": [
    {
     "name": "stdout",
     "output_type": "stream",
     "text": [
      "InSight sol 598 (2020-08-01) low -91.6ºC (-132.9ºF) high -15.1ºC (4.8ºF)\n",
      "winds from the WNW at 7.1 m/s (15.8 mph) gusting to 19.2 m/s (43.0 mph)\n",
      "pressure at 7.90 hPa\n"
     ]
    }
   ],
   "source": [
    "div_tag = weather_soup.find('div', class_ = 'css-901oao r-hkyrab r-1qd0xha r-a023e6 r-16dba41 r-ad9z0x r-bcqeeo r-bnwqim r-qvutc0')\n",
    "mars_weather = div_tag.text\n",
    "print(mars_weather)"
   ]
  },
  {
   "cell_type": "code",
   "execution_count": 22,
   "metadata": {},
   "outputs": [],
   "source": [
    "mars_dict[\"mars_weather\"] = mars_weather"
   ]
  },
  {
   "cell_type": "markdown",
   "metadata": {},
   "source": [
    "## Mars Facts"
   ]
  },
  {
   "cell_type": "code",
   "execution_count": 23,
   "metadata": {},
   "outputs": [],
   "source": [
    "# Fetch the page at the url using \"requests\" module.\n",
    "facts_url = 'https://space-facts.com/mars/'\n",
    "response = requests.get(facts_url)"
   ]
  },
  {
   "cell_type": "code",
   "execution_count": 24,
   "metadata": {},
   "outputs": [],
   "source": [
    "# Read all tables in the response into a list of dataframes\n",
    "dfs=pd.read_html(response.text)"
   ]
  },
  {
   "cell_type": "code",
   "execution_count": 25,
   "metadata": {},
   "outputs": [
    {
     "data": {
      "text/html": [
       "<div>\n",
       "<style scoped>\n",
       "    .dataframe tbody tr th:only-of-type {\n",
       "        vertical-align: middle;\n",
       "    }\n",
       "\n",
       "    .dataframe tbody tr th {\n",
       "        vertical-align: top;\n",
       "    }\n",
       "\n",
       "    .dataframe thead th {\n",
       "        text-align: right;\n",
       "    }\n",
       "</style>\n",
       "<table border=\"1\" class=\"dataframe\">\n",
       "  <thead>\n",
       "    <tr style=\"text-align: right;\">\n",
       "      <th></th>\n",
       "      <th>value</th>\n",
       "    </tr>\n",
       "    <tr>\n",
       "      <th>variable</th>\n",
       "      <th></th>\n",
       "    </tr>\n",
       "  </thead>\n",
       "  <tbody>\n",
       "    <tr>\n",
       "      <th>Equatorial Diameter:</th>\n",
       "      <td>6,792 km</td>\n",
       "    </tr>\n",
       "    <tr>\n",
       "      <th>Polar Diameter:</th>\n",
       "      <td>6,752 km</td>\n",
       "    </tr>\n",
       "    <tr>\n",
       "      <th>Mass:</th>\n",
       "      <td>6.39 × 10^23 kg (0.11 Earths)</td>\n",
       "    </tr>\n",
       "    <tr>\n",
       "      <th>Moons:</th>\n",
       "      <td>2 (Phobos &amp; Deimos)</td>\n",
       "    </tr>\n",
       "    <tr>\n",
       "      <th>Orbit Distance:</th>\n",
       "      <td>227,943,824 km (1.38 AU)</td>\n",
       "    </tr>\n",
       "    <tr>\n",
       "      <th>Orbit Period:</th>\n",
       "      <td>687 days (1.9 years)</td>\n",
       "    </tr>\n",
       "    <tr>\n",
       "      <th>Surface Temperature:</th>\n",
       "      <td>-87 to -5 °C</td>\n",
       "    </tr>\n",
       "    <tr>\n",
       "      <th>First Record:</th>\n",
       "      <td>2nd millennium BC</td>\n",
       "    </tr>\n",
       "    <tr>\n",
       "      <th>Recorded By:</th>\n",
       "      <td>Egyptian astronomers</td>\n",
       "    </tr>\n",
       "  </tbody>\n",
       "</table>\n",
       "</div>"
      ],
      "text/plain": [
       "                                              value\n",
       "variable                                           \n",
       "Equatorial Diameter:                       6,792 km\n",
       "Polar Diameter:                            6,752 km\n",
       "Mass:                 6.39 × 10^23 kg (0.11 Earths)\n",
       "Moons:                          2 (Phobos & Deimos)\n",
       "Orbit Distance:            227,943,824 km (1.38 AU)\n",
       "Orbit Period:                  687 days (1.9 years)\n",
       "Surface Temperature:                   -87 to -5 °C\n",
       "First Record:                     2nd millennium BC\n",
       "Recorded By:                   Egyptian astronomers"
      ]
     },
     "execution_count": 25,
     "metadata": {},
     "output_type": "execute_result"
    }
   ],
   "source": [
    "# Iterate through the DataFrames to access each table.\n",
    "facts_df = dfs[0]\n",
    "facts_df.columns = ['variable', 'value']\n",
    "facts = facts_df.set_index('variable')\n",
    "facts"
   ]
  },
  {
   "cell_type": "code",
   "execution_count": 26,
   "metadata": {},
   "outputs": [],
   "source": [
    "# Save DataFrame as HTML.\n",
    "facts_html_path = os.path.join(\".\", \"static\", \"facts.html\")\n",
    "facts.to_html(facts_html_path, encoding=\"utf-8\", index=True)"
   ]
  },
  {
   "cell_type": "code",
   "execution_count": 27,
   "metadata": {},
   "outputs": [
    {
     "data": {
      "text/html": [
       "<div>\n",
       "<style scoped>\n",
       "    .dataframe tbody tr th:only-of-type {\n",
       "        vertical-align: middle;\n",
       "    }\n",
       "\n",
       "    .dataframe tbody tr th {\n",
       "        vertical-align: top;\n",
       "    }\n",
       "\n",
       "    .dataframe thead th {\n",
       "        text-align: right;\n",
       "    }\n",
       "</style>\n",
       "<table border=\"1\" class=\"dataframe\">\n",
       "  <thead>\n",
       "    <tr style=\"text-align: right;\">\n",
       "      <th></th>\n",
       "      <th>Equatorial Diameter</th>\n",
       "      <th>Polar Diameter</th>\n",
       "      <th>Mass</th>\n",
       "      <th>Moons</th>\n",
       "      <th>Orbit Distance</th>\n",
       "      <th>Orbit Period</th>\n",
       "      <th>Surface Temperature</th>\n",
       "      <th>First Record</th>\n",
       "      <th>Recorded By</th>\n",
       "    </tr>\n",
       "  </thead>\n",
       "  <tbody>\n",
       "    <tr>\n",
       "      <th>value</th>\n",
       "      <td>6,792 km</td>\n",
       "      <td>6,752 km</td>\n",
       "      <td>6.39 × 10^23 kg (0.11 Earths)</td>\n",
       "      <td>2 (Phobos &amp; Deimos)</td>\n",
       "      <td>227,943,824 km (1.38 AU)</td>\n",
       "      <td>687 days (1.9 years)</td>\n",
       "      <td>-87 to -5 °C</td>\n",
       "      <td>2nd millennium BC</td>\n",
       "      <td>Egyptian astronomers</td>\n",
       "    </tr>\n",
       "  </tbody>\n",
       "</table>\n",
       "</div>"
      ],
      "text/plain": [
       "      Equatorial Diameter Polar Diameter                           Mass  \\\n",
       "value            6,792 km       6,752 km  6.39 × 10^23 kg (0.11 Earths)   \n",
       "\n",
       "                     Moons            Orbit Distance          Orbit Period  \\\n",
       "value  2 (Phobos & Deimos)  227,943,824 km (1.38 AU)  687 days (1.9 years)   \n",
       "\n",
       "      Surface Temperature       First Record           Recorded By  \n",
       "value        -87 to -5 °C  2nd millennium BC  Egyptian astronomers  "
      ]
     },
     "execution_count": 27,
     "metadata": {},
     "output_type": "execute_result"
    }
   ],
   "source": [
    "mars_df = facts.T\n",
    "mars_df.columns = ['Equatorial Diameter', 'Polar Diameter', 'Mass', 'Moons',\n",
    "       'Orbit Distance', 'Orbit Period', 'Surface Temperature',\n",
    "       'First Record', 'Recorded By']\n",
    "mars_df"
   ]
  },
  {
   "cell_type": "code",
   "execution_count": 28,
   "metadata": {},
   "outputs": [],
   "source": [
    "# Save DataFrame as HTML.\n",
    "mars_html_path = os.path.join(\".\", \"static\", \"mars_facts.html\")\n",
    "mars_df.to_html(mars_html_path, encoding=\"utf-8\", index=False)"
   ]
  },
  {
   "cell_type": "markdown",
   "metadata": {},
   "source": [
    "## Mars Hemispheres"
   ]
  },
  {
   "cell_type": "code",
   "execution_count": 29,
   "metadata": {},
   "outputs": [],
   "source": [
    "# Run Google Chrome from Python.\n",
    "url_hemis = 'https://astrogeology.usgs.gov/search/results?q=hemisphere+enhanced&k1=target&v1=Mars'\n",
    "driver = webdriver.Chrome(chrome_path)\n",
    "driver.get(url_hemis)\n",
    "\n",
    "hemisphere_image_urls = []"
   ]
  },
  {
   "cell_type": "markdown",
   "metadata": {},
   "source": [
    "## Cerberus Hemisphere"
   ]
  },
  {
   "cell_type": "code",
   "execution_count": 30,
   "metadata": {},
   "outputs": [
    {
     "name": "stdout",
     "output_type": "stream",
     "text": [
      "Cerberus Hemisphere\n",
      "https://astropedia.astrogeology.usgs.gov/download/Mars/Viking/cerberus_enhanced.tif/full.jpg\n"
     ]
    }
   ],
   "source": [
    "# Search for the tag of the full image, using link text.\n",
    "cerberus_link = driver.find_element_by_link_text('Cerberus Hemisphere Enhanced')\n",
    "\n",
    "# Click on the link for the full image.\n",
    "cerberus_link.click()\n",
    "\n",
    "# Get the HTML of the current page.\n",
    "cerberus_hemis_html = driver.page_source\n",
    "#cerberus_hemis_html\n",
    "\n",
    "# This is the HTML for the full picture webpage\n",
    "cerberus_soup = BeautifulSoup(cerberus_hemis_html, 'lxml')\n",
    "#print(cerberus_hemis_soup.prettify())\n",
    "\n",
    "cerberus_title = cerberus_soup.find('h2', class_ = 'title').text[:-9]\n",
    "print(cerberus_title)\n",
    "\n",
    "mars_dict[\"cerberus_title\"] = cerberus_title\n",
    "\n",
    "cerberus_div_img = cerberus_soup.find('div', class_ = 'downloads')\n",
    "cerberus_img_url = cerberus_div_img.a['href']\n",
    "print(cerberus_img_url)\n",
    "\n",
    "mars_dict[\"cerberus_img_url\"] = cerberus_img_url\n",
    "\n",
    "# Dictionary\n",
    "cerberus_dict = {}\n",
    "cerberus_dict['title'] = cerberus_title\n",
    "cerberus_dict['img_url'] = cerberus_img_url\n",
    "\n",
    "hemisphere_image_urls.append(cerberus_dict)\n",
    "\n",
    "driver.back()"
   ]
  },
  {
   "cell_type": "markdown",
   "metadata": {},
   "source": [
    "## Schiaparelli Hemisphere"
   ]
  },
  {
   "cell_type": "code",
   "execution_count": 31,
   "metadata": {},
   "outputs": [
    {
     "name": "stdout",
     "output_type": "stream",
     "text": [
      "Schiaparelli Hemisphere\n",
      "https://astropedia.astrogeology.usgs.gov/download/Mars/Viking/schiaparelli_enhanced.tif/full.jpg\n"
     ]
    }
   ],
   "source": [
    "# Search for the tag.\n",
    "schiaparelli_link = driver.find_element_by_link_text('Schiaparelli Hemisphere Enhanced')\n",
    "\n",
    "# Click on the link.\n",
    "schiaparelli_link.click()\n",
    "\n",
    "# Get the HTML of the current page.\n",
    "schiaparelli_html = driver.page_source\n",
    "#schiaparelli_html\n",
    "\n",
    "# This is the HTML for the current webpage\n",
    "schiaparelli_soup = BeautifulSoup(schiaparelli_html, 'lxml')\n",
    "#print(schiaparelli_soup.prettify())\n",
    "\n",
    "schiaparelli_title = schiaparelli_soup.find('h2', class_ = 'title').text[:-9]\n",
    "print(schiaparelli_title)\n",
    "\n",
    "mars_dict[\"schiaparelli_title\"] = schiaparelli_title\n",
    "\n",
    "schiaparelli_div_img = schiaparelli_soup.find('div', class_ = 'downloads')\n",
    "schiaparelli_img_url = schiaparelli_div_img.a['href']\n",
    "print(schiaparelli_img_url)\n",
    "\n",
    "mars_dict[\"schiaparelli_img_url\"] = schiaparelli_img_url\n",
    "\n",
    "# Dictionary\n",
    "schiaparelli_dict = {}\n",
    "schiaparelli_dict['title'] = schiaparelli_title\n",
    "schiaparelli_dict['img_url'] = schiaparelli_img_url\n",
    "\n",
    "hemisphere_image_urls.append(schiaparelli_dict)\n",
    "\n",
    "driver.back()"
   ]
  },
  {
   "cell_type": "markdown",
   "metadata": {},
   "source": [
    "## Syrtis Major Hemisphere"
   ]
  },
  {
   "cell_type": "code",
   "execution_count": 32,
   "metadata": {},
   "outputs": [
    {
     "name": "stdout",
     "output_type": "stream",
     "text": [
      "Syrtis Major Hemisphere\n",
      "https://astropedia.astrogeology.usgs.gov/download/Mars/Viking/syrtis_major_enhanced.tif/full.jpg\n"
     ]
    }
   ],
   "source": [
    "# Search for the tag.\n",
    "syrtis_link = driver.find_element_by_link_text('Syrtis Major Hemisphere Enhanced')\n",
    "\n",
    "# Click on the link.\n",
    "syrtis_link.click()\n",
    "\n",
    "# Get the HTML of the current page.\n",
    "syrtis_html = driver.page_source\n",
    "#syrtis_html\n",
    "\n",
    "# This is the HTML for the current webpage\n",
    "syrtis_soup = BeautifulSoup(syrtis_html, 'lxml')\n",
    "#print(syrtis_soup.prettify())\n",
    "\n",
    "syrtis_title = syrtis_soup.find('h2', class_ = 'title').text[:-9]\n",
    "print(syrtis_title)\n",
    "\n",
    "mars_dict[\"syrtis_title\"] = syrtis_title\n",
    "\n",
    "syrtis_div_img = syrtis_soup.find('div', class_ = 'downloads')\n",
    "syrtis_img_url = syrtis_div_img.a['href']\n",
    "print(syrtis_img_url)\n",
    "\n",
    "mars_dict[\"syrtis_img_url\"] = syrtis_img_url\n",
    "\n",
    "# Dictionary\n",
    "syrtis_dict = {}\n",
    "syrtis_dict['title'] = syrtis_title\n",
    "syrtis_dict['img_url'] = syrtis_img_url\n",
    "\n",
    "hemisphere_image_urls.append(syrtis_dict)\n",
    "\n",
    "driver.back()"
   ]
  },
  {
   "cell_type": "markdown",
   "metadata": {},
   "source": [
    "## Valles Marineris Hemisphere Enhanced"
   ]
  },
  {
   "cell_type": "code",
   "execution_count": 33,
   "metadata": {},
   "outputs": [
    {
     "name": "stdout",
     "output_type": "stream",
     "text": [
      "Valles Marineris Hemisphere\n",
      "https://astropedia.astrogeology.usgs.gov/download/Mars/Viking/valles_marineris_enhanced.tif/full.jpg\n"
     ]
    }
   ],
   "source": [
    "# Search for the tag.\n",
    "valles_link = driver.find_element_by_link_text('Valles Marineris Hemisphere Enhanced')\n",
    "\n",
    "# Click on the link.\n",
    "valles_link.click()\n",
    "\n",
    "# Get the HTML of the current page.\n",
    "valles_html = driver.page_source\n",
    "#syrtis_html\n",
    "\n",
    "# This is the HTML for the current webpage\n",
    "valles_soup = BeautifulSoup(valles_html, 'lxml')\n",
    "#print(valles_soup.prettify())\n",
    "\n",
    "valles_title = valles_soup.find('h2', class_ = 'title').text[:-9]\n",
    "print(valles_title)\n",
    "\n",
    "mars_dict[\"valles_title\"] = valles_title\n",
    "\n",
    "valles_div_img = valles_soup.find('div', class_ = 'downloads')\n",
    "valles_img_url = valles_div_img.a['href']\n",
    "print(valles_img_url)\n",
    "\n",
    "mars_dict[\"valles_img_url\"] = valles_img_url\n",
    "\n",
    "# Dictionary\n",
    "valles_dict = {}\n",
    "valles_dict['title'] = valles_title\n",
    "valles_dict['img_url'] = valles_img_url\n",
    "\n",
    "hemisphere_image_urls.append(valles_dict)\n",
    "\n",
    "driver.back()\n",
    "\n",
    "#Close the driver\n",
    "driver.close()"
   ]
  },
  {
   "cell_type": "code",
   "execution_count": 34,
   "metadata": {},
   "outputs": [
    {
     "name": "stdout",
     "output_type": "stream",
     "text": [
      "latest_news_title:   NASA, ULA Launch Mars 2020 Perseverance Rover Mission to Red Planet\n",
      "latest_news_p:   The agency's Mars 2020 mission is on its way. It will land at Jezero Crater in about seven months, on Feb. 18, 2021. \n",
      "featured_image_url:   https://www.jpl.nasa.gov/spaceimages/images/largesize/PIA18816_hires.jpg\n",
      "mars_weather:   InSight sol 598 (2020-08-01) low -91.6ºC (-132.9ºF) high -15.1ºC (4.8ºF)\n",
      "winds from the WNW at 7.1 m/s (15.8 mph) gusting to 19.2 m/s (43.0 mph)\n",
      "pressure at 7.90 hPa\n",
      "cerberus_title:   Cerberus Hemisphere\n",
      "cerberus_img_url:   https://astropedia.astrogeology.usgs.gov/download/Mars/Viking/cerberus_enhanced.tif/full.jpg\n",
      "schiaparelli_title:   Schiaparelli Hemisphere\n",
      "schiaparelli_img_url:   https://astropedia.astrogeology.usgs.gov/download/Mars/Viking/schiaparelli_enhanced.tif/full.jpg\n",
      "syrtis_title:   Syrtis Major Hemisphere\n",
      "syrtis_img_url:   https://astropedia.astrogeology.usgs.gov/download/Mars/Viking/syrtis_major_enhanced.tif/full.jpg\n",
      "valles_title:   Valles Marineris Hemisphere\n",
      "valles_img_url:   https://astropedia.astrogeology.usgs.gov/download/Mars/Viking/valles_marineris_enhanced.tif/full.jpg\n"
     ]
    }
   ],
   "source": [
    "# Print mars_dict\n",
    "for key, value in mars_dict.items():\n",
    "    print(f'{key}:   {value}')"
   ]
  },
  {
   "cell_type": "code",
   "execution_count": null,
   "metadata": {},
   "outputs": [],
   "source": []
  }
 ],
 "metadata": {
  "kernelspec": {
   "display_name": "Python [conda env:.conda-PythonData] *",
   "language": "python",
   "name": "conda-env-.conda-PythonData-py"
  },
  "language_info": {
   "codemirror_mode": {
    "name": "ipython",
    "version": 3
   },
   "file_extension": ".py",
   "mimetype": "text/x-python",
   "name": "python",
   "nbconvert_exporter": "python",
   "pygments_lexer": "ipython3",
   "version": "3.8.3"
  }
 },
 "nbformat": 4,
 "nbformat_minor": 4
}
